{
  "nbformat": 4,
  "nbformat_minor": 0,
  "metadata": {
    "colab": {
      "provenance": []
    },
    "kernelspec": {
      "name": "python3",
      "display_name": "Python 3"
    },
    "language_info": {
      "name": "python"
    }
  },
  "cells": [
    {
      "cell_type": "code",
      "source": [
        "import csv\n",
        "from google.colab import files\n",
        "import math\n",
        "\n",
        "\n",
        "uploaded = files.upload()\n",
        "# Open the CSV file in read mode\n",
        "with open('filtered_combined_eeg_df.csv', 'r') as csvfile:\n",
        "  # Create a reader object\n",
        "  csv_reader = csv.reader(csvfile)\n",
        "\n",
        "  # Create a new list to store the filtered rows\n",
        "  filtered_rows = []\n",
        "  easy_1 =[]\n",
        "  easy_2 = []\n",
        "  hard = []\n",
        "\n",
        "  # Iterate over the rows in the CSV file\n",
        "  for row in csv_reader:\n",
        "    # Check if the third column contains the values to remove\n",
        "    if row[2] not in ['no_label', 'calibration_start', 'end_of_experiment']:\n",
        "      filtered_rows.append(row)\n",
        "      if row[2] == 'first_easy_calculation_block_start':\n",
        "        easy_1.append(row)\n",
        "      elif row[2] == 'hard_calculation_block_start':\n",
        "         hard.append(row)\n",
        "      elif row[2] == 'second_easy_calculation_block_start':\n",
        "         easy_2.append(row)\n",
        "      # If the third column does not contain the values to remove, append the row to the filtered list\n",
        "\n",
        "\n",
        "\n",
        "\n",
        "# Open a new CSV file in write mode\n",
        "with open('filtered_data.csv', 'w', newline='') as new_csvfile:\n",
        "  # Create a writer object\n",
        "  csv_writer = csv.writer(new_csvfile)\n",
        "  # Write the filtered rows to the new CSV file\n",
        "  csv_writer.writerows(filtered_rows)\n"
      ],
      "metadata": {
        "colab": {
          "base_uri": "https://localhost:8080/",
          "height": 73
        },
        "id": "2wAic5wqTZs5",
        "outputId": "75f9cd75-be32-4dff-dd6d-ecb31963e7f5"
      },
      "execution_count": null,
      "outputs": [
        {
          "output_type": "display_data",
          "data": {
            "text/plain": [
              "<IPython.core.display.HTML object>"
            ],
            "text/html": [
              "\n",
              "     <input type=\"file\" id=\"files-6cad1fd4-bf36-470c-a5d5-e289e9b2435e\" name=\"files[]\" multiple disabled\n",
              "        style=\"border:none\" />\n",
              "     <output id=\"result-6cad1fd4-bf36-470c-a5d5-e289e9b2435e\">\n",
              "      Upload widget is only available when the cell has been executed in the\n",
              "      current browser session. Please rerun this cell to enable.\n",
              "      </output>\n",
              "      <script>// Copyright 2017 Google LLC\n",
              "//\n",
              "// Licensed under the Apache License, Version 2.0 (the \"License\");\n",
              "// you may not use this file except in compliance with the License.\n",
              "// You may obtain a copy of the License at\n",
              "//\n",
              "//      http://www.apache.org/licenses/LICENSE-2.0\n",
              "//\n",
              "// Unless required by applicable law or agreed to in writing, software\n",
              "// distributed under the License is distributed on an \"AS IS\" BASIS,\n",
              "// WITHOUT WARRANTIES OR CONDITIONS OF ANY KIND, either express or implied.\n",
              "// See the License for the specific language governing permissions and\n",
              "// limitations under the License.\n",
              "\n",
              "/**\n",
              " * @fileoverview Helpers for google.colab Python module.\n",
              " */\n",
              "(function(scope) {\n",
              "function span(text, styleAttributes = {}) {\n",
              "  const element = document.createElement('span');\n",
              "  element.textContent = text;\n",
              "  for (const key of Object.keys(styleAttributes)) {\n",
              "    element.style[key] = styleAttributes[key];\n",
              "  }\n",
              "  return element;\n",
              "}\n",
              "\n",
              "// Max number of bytes which will be uploaded at a time.\n",
              "const MAX_PAYLOAD_SIZE = 100 * 1024;\n",
              "\n",
              "function _uploadFiles(inputId, outputId) {\n",
              "  const steps = uploadFilesStep(inputId, outputId);\n",
              "  const outputElement = document.getElementById(outputId);\n",
              "  // Cache steps on the outputElement to make it available for the next call\n",
              "  // to uploadFilesContinue from Python.\n",
              "  outputElement.steps = steps;\n",
              "\n",
              "  return _uploadFilesContinue(outputId);\n",
              "}\n",
              "\n",
              "// This is roughly an async generator (not supported in the browser yet),\n",
              "// where there are multiple asynchronous steps and the Python side is going\n",
              "// to poll for completion of each step.\n",
              "// This uses a Promise to block the python side on completion of each step,\n",
              "// then passes the result of the previous step as the input to the next step.\n",
              "function _uploadFilesContinue(outputId) {\n",
              "  const outputElement = document.getElementById(outputId);\n",
              "  const steps = outputElement.steps;\n",
              "\n",
              "  const next = steps.next(outputElement.lastPromiseValue);\n",
              "  return Promise.resolve(next.value.promise).then((value) => {\n",
              "    // Cache the last promise value to make it available to the next\n",
              "    // step of the generator.\n",
              "    outputElement.lastPromiseValue = value;\n",
              "    return next.value.response;\n",
              "  });\n",
              "}\n",
              "\n",
              "/**\n",
              " * Generator function which is called between each async step of the upload\n",
              " * process.\n",
              " * @param {string} inputId Element ID of the input file picker element.\n",
              " * @param {string} outputId Element ID of the output display.\n",
              " * @return {!Iterable<!Object>} Iterable of next steps.\n",
              " */\n",
              "function* uploadFilesStep(inputId, outputId) {\n",
              "  const inputElement = document.getElementById(inputId);\n",
              "  inputElement.disabled = false;\n",
              "\n",
              "  const outputElement = document.getElementById(outputId);\n",
              "  outputElement.innerHTML = '';\n",
              "\n",
              "  const pickedPromise = new Promise((resolve) => {\n",
              "    inputElement.addEventListener('change', (e) => {\n",
              "      resolve(e.target.files);\n",
              "    });\n",
              "  });\n",
              "\n",
              "  const cancel = document.createElement('button');\n",
              "  inputElement.parentElement.appendChild(cancel);\n",
              "  cancel.textContent = 'Cancel upload';\n",
              "  const cancelPromise = new Promise((resolve) => {\n",
              "    cancel.onclick = () => {\n",
              "      resolve(null);\n",
              "    };\n",
              "  });\n",
              "\n",
              "  // Wait for the user to pick the files.\n",
              "  const files = yield {\n",
              "    promise: Promise.race([pickedPromise, cancelPromise]),\n",
              "    response: {\n",
              "      action: 'starting',\n",
              "    }\n",
              "  };\n",
              "\n",
              "  cancel.remove();\n",
              "\n",
              "  // Disable the input element since further picks are not allowed.\n",
              "  inputElement.disabled = true;\n",
              "\n",
              "  if (!files) {\n",
              "    return {\n",
              "      response: {\n",
              "        action: 'complete',\n",
              "      }\n",
              "    };\n",
              "  }\n",
              "\n",
              "  for (const file of files) {\n",
              "    const li = document.createElement('li');\n",
              "    li.append(span(file.name, {fontWeight: 'bold'}));\n",
              "    li.append(span(\n",
              "        `(${file.type || 'n/a'}) - ${file.size} bytes, ` +\n",
              "        `last modified: ${\n",
              "            file.lastModifiedDate ? file.lastModifiedDate.toLocaleDateString() :\n",
              "                                    'n/a'} - `));\n",
              "    const percent = span('0% done');\n",
              "    li.appendChild(percent);\n",
              "\n",
              "    outputElement.appendChild(li);\n",
              "\n",
              "    const fileDataPromise = new Promise((resolve) => {\n",
              "      const reader = new FileReader();\n",
              "      reader.onload = (e) => {\n",
              "        resolve(e.target.result);\n",
              "      };\n",
              "      reader.readAsArrayBuffer(file);\n",
              "    });\n",
              "    // Wait for the data to be ready.\n",
              "    let fileData = yield {\n",
              "      promise: fileDataPromise,\n",
              "      response: {\n",
              "        action: 'continue',\n",
              "      }\n",
              "    };\n",
              "\n",
              "    // Use a chunked sending to avoid message size limits. See b/62115660.\n",
              "    let position = 0;\n",
              "    do {\n",
              "      const length = Math.min(fileData.byteLength - position, MAX_PAYLOAD_SIZE);\n",
              "      const chunk = new Uint8Array(fileData, position, length);\n",
              "      position += length;\n",
              "\n",
              "      const base64 = btoa(String.fromCharCode.apply(null, chunk));\n",
              "      yield {\n",
              "        response: {\n",
              "          action: 'append',\n",
              "          file: file.name,\n",
              "          data: base64,\n",
              "        },\n",
              "      };\n",
              "\n",
              "      let percentDone = fileData.byteLength === 0 ?\n",
              "          100 :\n",
              "          Math.round((position / fileData.byteLength) * 100);\n",
              "      percent.textContent = `${percentDone}% done`;\n",
              "\n",
              "    } while (position < fileData.byteLength);\n",
              "  }\n",
              "\n",
              "  // All done.\n",
              "  yield {\n",
              "    response: {\n",
              "      action: 'complete',\n",
              "    }\n",
              "  };\n",
              "}\n",
              "\n",
              "scope.google = scope.google || {};\n",
              "scope.google.colab = scope.google.colab || {};\n",
              "scope.google.colab._files = {\n",
              "  _uploadFiles,\n",
              "  _uploadFilesContinue,\n",
              "};\n",
              "})(self);\n",
              "</script> "
            ]
          },
          "metadata": {}
        },
        {
          "output_type": "stream",
          "name": "stdout",
          "text": [
            "Saving filtered_combined_eeg_df.csv to filtered_combined_eeg_df.csv\n"
          ]
        }
      ]
    },
    {
      "cell_type": "markdown",
      "source": [
        "Split the data into 3 matrices, one for each exercise."
      ],
      "metadata": {
        "id": "3SLToIftnZ7u"
      }
    },
    {
      "cell_type": "code",
      "source": [
        "import numpy as np\n",
        "\n",
        "Fs = 250 #Sampling frequency\n",
        "T = 1/Fs #Sampling interval\n",
        "eeg_datapoint_time = np.arange(0, 1, T)\n",
        "#Easy 1 length 42501\n",
        "#Easy 2 length 50232\n",
        "#Easy tot length 92733\n",
        "#Hard length 33604\n",
        "easy_1_array = np.delete(np.array(easy_1),2,1)\n",
        "easy_2_array = np.delete(np.array(easy_2),2,1)\n",
        "hard_array = np.delete(np.array(hard),2,1)\n",
        "easy_1_array = np.delete(np.array(easy_1_array),0,1)\n",
        "easy_2_array = np.delete(np.array(easy_2_array),0,1)\n",
        "hard_array = np.delete(np.array(hard_array),0,1)\n",
        "\n",
        "def convert_to_floats(matrix):\n",
        "  new_matrix =[]\n",
        "  for row in matrix:\n",
        "    new_row = [float(x) for x in row]\n",
        "    new_matrix.append(new_row)\n",
        "  return np.array(new_matrix)\n",
        "\n",
        "\n",
        "easy_1_array = convert_to_floats(easy_1_array)\n",
        "easy_2_array = convert_to_floats(easy_2_array)\n",
        "hard_array = convert_to_floats(hard_array)\n",
        "\n"
      ],
      "metadata": {
        "id": "UJb0k10LcrMJ",
        "collapsed": true
      },
      "execution_count": null,
      "outputs": []
    },
    {
      "cell_type": "markdown",
      "source": [
        "Produce datapoints by taking 250 samples (1 second eeg recordings). We discard the last chunk which is less than 250 samples for each array."
      ],
      "metadata": {
        "id": "k9y2pApZtBIK"
      }
    },
    {
      "cell_type": "code",
      "source": [
        "def split_into_chunks(array, chunk_size):\n",
        "  num_chunks = len(array) // chunk_size\n",
        "  chunks = []\n",
        "  for i in range(num_chunks):\n",
        "    start = i * chunk_size\n",
        "    end = (i + 1) * chunk_size\n",
        "    chunks.append(array[start:end])\n",
        "  return chunks\n",
        "\n",
        "easy_1_array_chunks = split_into_chunks(easy_1_array, Fs)\n",
        "easy_2_array_chunks = split_into_chunks(easy_2_array, Fs)\n",
        "hard_array_chunks = split_into_chunks(hard_array, Fs)\n",
        "\n",
        "easy_1_array_chunks = np.array(easy_1_array_chunks)\n",
        "easy_2_array_chunks = np.array(easy_2_array_chunks)\n",
        "hard_array_chunks = np.array(hard_array_chunks)\n"
      ],
      "metadata": {
        "id": "vXRqIppdqzkK"
      },
      "execution_count": null,
      "outputs": []
    },
    {
      "cell_type": "code",
      "source": [
        "print(easy_1_array_chunks.shape)\n",
        "print(easy_2_array_chunks.shape)\n",
        "print(hard_array_chunks.shape)"
      ],
      "metadata": {
        "colab": {
          "base_uri": "https://localhost:8080/"
        },
        "id": "ob0PsK72JW6J",
        "outputId": "2f0bdceb-c4ba-4f48-84af-39648f66ed95"
      },
      "execution_count": null,
      "outputs": [
        {
          "output_type": "stream",
          "name": "stdout",
          "text": [
            "(170, 250, 1)\n",
            "(200, 250, 1)\n",
            "(134, 250, 1)\n"
          ]
        }
      ]
    },
    {
      "cell_type": "markdown",
      "source": [
        "Define all features functions"
      ],
      "metadata": {
        "id": "25fAyrX4Dlvw"
      }
    },
    {
      "cell_type": "code",
      "source": [
        "from scipy import stats\n",
        "import scipy\n",
        "\n",
        "def mean(data):\n",
        "    return np.mean(data,axis=0)\n",
        "\n",
        "def std(data):\n",
        "    return np.std(data,axis=0)\n",
        "\n",
        "def ptp(data):\n",
        "    return np.ptp(data,axis=0)\n",
        "\n",
        "def var(data):\n",
        "        return np.var(data,axis=0)\n",
        "\n",
        "def minim(data):\n",
        "      return np.min(data,axis=0)\n",
        "\n",
        "def maxim(data):\n",
        "      return np.max(data,axis=0)\n",
        "\n",
        "def argminim(data):\n",
        "      return np.argmin(data,axis=0)\n",
        "\n",
        "def argmaxim(data):\n",
        "      return np.argmax(data,axis=0)\n",
        "\n",
        "def mean_square(data):\n",
        "      return np.mean(data**2,axis=0)\n",
        "\n",
        "def rms(data): #root mean square\n",
        "      return  np.sqrt(np.mean(data**2,axis=0))\n",
        "\n",
        "def abs_diffs_signal(data):\n",
        "    return np.sum(np.abs(np.diff(data,axis=0)),axis=0)\n",
        "\n",
        "def skewness(data):\n",
        "    return stats.skew(data,axis=0)\n",
        "\n",
        "def kurtosis(data):\n",
        "    return stats.kurtosis(data,axis=0)\n",
        "\n",
        "def concatenate_features(data):\n",
        "    return np.concatenate((mean(data),std(data),ptp(data),var(data),minim(data),maxim(data),argminim(data),argmaxim(data),\n",
        "                          mean_square(data),rms(data),abs_diffs_signal(data),\n",
        "                          skewness(data),kurtosis(data)),axis=0)"
      ],
      "metadata": {
        "id": "dcXb5xCJuUkA"
      },
      "execution_count": null,
      "outputs": []
    },
    {
      "cell_type": "markdown",
      "source": [
        "Use MATLAB to compute bandpowers thanks to its easier function, and import the results"
      ],
      "metadata": {
        "id": "HOP5HkUiVjVB"
      }
    },
    {
      "cell_type": "code",
      "source": [
        "!pip install scipy\n",
        "\n",
        "from scipy.io import loadmat\n",
        "from google.colab import drive\n",
        "drive.mount('/content/drive')\n",
        "\n",
        "# Replace 'path_to_your_file1.mat' with the actual path to your .mat file in Google Drive\n",
        "file_path1 = '/content/drive/My Drive/powerbands/bandpowers_easy_1.mat'\n",
        "mat1 = loadmat(file_path1)\n",
        "\n",
        "file_path2 = '/content/drive/My Drive/powerbands/bandpowers_easy_2.mat'\n",
        "mat2 = loadmat(file_path2)\n",
        "\n",
        "file_path3 = '/content/drive/My Drive/powerbands/bandpowers_hard.mat'\n",
        "mat3 = loadmat(file_path3)\n",
        "\n",
        "\n"
      ],
      "metadata": {
        "colab": {
          "base_uri": "https://localhost:8080/"
        },
        "id": "yFdgS7LdF3yx",
        "outputId": "1f1a3a00-3236-41b5-9d0a-b6030e0722bb"
      },
      "execution_count": null,
      "outputs": [
        {
          "output_type": "stream",
          "name": "stdout",
          "text": [
            "Requirement already satisfied: scipy in /usr/local/lib/python3.10/dist-packages (1.13.1)\n",
            "Requirement already satisfied: numpy<2.3,>=1.22.4 in /usr/local/lib/python3.10/dist-packages (from scipy) (1.26.4)\n",
            "Mounted at /content/drive\n"
          ]
        }
      ]
    },
    {
      "cell_type": "code",
      "source": [
        "# Assuming the .mat files contain a variable named 'data'\n",
        "matrix1 = mat1['eeg_bandpowers_easy1']\n",
        "matrix2 = mat2['eeg_bandpowers_easy2']\n",
        "matrix3 = mat3['eeg_bandpowers_hard']\n"
      ],
      "metadata": {
        "id": "J26QznudU5sd"
      },
      "execution_count": null,
      "outputs": []
    },
    {
      "cell_type": "code",
      "source": [
        "print(np.shape(matrix1))\n",
        "print(np.shape(matrix2))\n",
        "print(np.shape(matrix3))"
      ],
      "metadata": {
        "colab": {
          "base_uri": "https://localhost:8080/"
        },
        "id": "C1C5HhzaV-QU",
        "outputId": "b7e281b1-9a03-4b76-c5fb-a33f60377abb"
      },
      "execution_count": null,
      "outputs": [
        {
          "output_type": "stream",
          "name": "stdout",
          "text": [
            "(170, 5)\n",
            "(200, 5)\n",
            "(134, 5)\n"
          ]
        }
      ]
    },
    {
      "cell_type": "markdown",
      "source": [
        "Create feature matrices"
      ],
      "metadata": {
        "id": "-2SFyY8tWWOA"
      }
    },
    {
      "cell_type": "code",
      "source": [
        "easy_1_features = np.zeros((len(easy_1_array_chunks),18))\n",
        "easy_2_features = np.zeros((len(easy_2_array_chunks),18))\n",
        "hard_features = np.zeros((len(hard_array_chunks),18))\n",
        "\n",
        "for i in range(len(easy_1_array_chunks)):\n",
        "  easy_1_features[i,0:13] = concatenate_features(easy_1_array_chunks[i])\n",
        "  easy_1_features[i,13:18] = matrix1[i,:]\n",
        "for i in range(len(easy_2_array_chunks)):\n",
        "  easy_2_features[i,0:13] = concatenate_features(easy_2_array_chunks[i])\n",
        "  easy_2_features[i,13:18] = matrix2[i,:]\n",
        "for i in range(len(hard_array_chunks)):\n",
        "  hard_features[i,0:13] = concatenate_features(hard_array_chunks[i])\n",
        "  hard_features[i,13:18] = matrix3[i,:]"
      ],
      "metadata": {
        "id": "11J7-llND44T"
      },
      "execution_count": null,
      "outputs": []
    },
    {
      "cell_type": "code",
      "source": [
        "print(np.shape(easy_1_features))\n",
        "print(np.shape(easy_2_features))\n",
        "print(np.shape(hard_features))\n"
      ],
      "metadata": {
        "colab": {
          "base_uri": "https://localhost:8080/"
        },
        "id": "TEVvFuLwWjwk",
        "outputId": "396854e9-405d-486f-f306-80e7cda18e23"
      },
      "execution_count": null,
      "outputs": [
        {
          "output_type": "stream",
          "name": "stdout",
          "text": [
            "(170, 18)\n",
            "(200, 18)\n",
            "(134, 18)\n"
          ]
        }
      ]
    },
    {
      "cell_type": "markdown",
      "source": [
        "Binary classification with random forest"
      ],
      "metadata": {
        "id": "03X5d0G6apsl"
      }
    },
    {
      "cell_type": "code",
      "source": [
        "from sklearn.model_selection import train_test_split\n",
        "from sklearn.preprocessing import StandardScaler\n",
        "from sklearn.ensemble import RandomForestClassifier\n",
        "from sklearn.metrics import accuracy_score, classification_report\n",
        "\n",
        "# Combine easy features and create labels\n",
        "X_easy = np.concatenate((easy_1_features, easy_2_features), axis=0)\n",
        "y_easy = np.zeros(X_easy.shape[0])  # Label 0 for easy\n",
        "\n",
        "# Combine with hard features and labels\n",
        "X = np.concatenate((X_easy, hard_features), axis=0)\n",
        "y = np.concatenate((y_easy, np.ones(hard_features.shape[0])))  # Label 1 for hard\n",
        "\n",
        "# Split data into train and test sets\n",
        "X_train, X_test, y_train, y_test = train_test_split(X, y, test_size=0.2, random_state=55)\n",
        "\n",
        "# Standardize features\n",
        "scaler = StandardScaler()\n",
        "X_train = scaler.fit_transform(X_train)\n",
        "X_test = scaler.transform(X_test)\n",
        "\n",
        "# Train a Random Forest Classifier\n",
        "clf = RandomForestClassifier(random_state=42)\n",
        "clf.fit(X_train, y_train)\n",
        "\n",
        "# Make predictions on test set\n",
        "y_pred = clf.predict(X_test)\n",
        "\n",
        "# Evaluate performance\n",
        "accuracy = accuracy_score(y_test, y_pred)\n",
        "print(\"Accuracy:\", accuracy)\n",
        "print(classification_report(y_test, y_pred))\n"
      ],
      "metadata": {
        "colab": {
          "base_uri": "https://localhost:8080/"
        },
        "id": "MVsjgIm5Y-G4",
        "outputId": "2ac6961c-d62a-4745-e27d-3b3e3e29cc5c"
      },
      "execution_count": null,
      "outputs": [
        {
          "output_type": "stream",
          "name": "stdout",
          "text": [
            "Accuracy: 0.9603960396039604\n",
            "              precision    recall  f1-score   support\n",
            "\n",
            "         0.0       0.96      0.99      0.98        80\n",
            "         1.0       0.95      0.86      0.90        21\n",
            "\n",
            "    accuracy                           0.96       101\n",
            "   macro avg       0.96      0.92      0.94       101\n",
            "weighted avg       0.96      0.96      0.96       101\n",
            "\n"
          ]
        }
      ]
    },
    {
      "cell_type": "markdown",
      "source": [
        "Calculate losses and show confusion matrix\n"
      ],
      "metadata": {
        "id": "RiL0HTVcatsS"
      }
    },
    {
      "cell_type": "code",
      "source": [
        "# Calculate training loss\n",
        "train_loss = 1 - clf.score(X_train, y_train)\n",
        "print(\"Training Loss:\", train_loss)\n",
        "\n",
        "# Calculate testing loss\n",
        "test_loss = 1 - clf.score(X_test, y_test)\n",
        "print(\"Testing Loss:\", test_loss)\n",
        "\n",
        "# Confusion matrix\n",
        "from sklearn.metrics import confusion_matrix\n",
        "import seaborn as sns\n",
        "import matplotlib.pyplot as plt\n",
        "\n",
        "cm = confusion_matrix(y_test, y_pred)\n",
        "sns.heatmap(cm, annot=True, fmt='d')\n",
        "plt.xlabel('Predicted')\n",
        "plt.ylabel('True')\n",
        "plt.title('Confusion Matrix')\n",
        "plt.show()\n"
      ],
      "metadata": {
        "colab": {
          "base_uri": "https://localhost:8080/",
          "height": 507
        },
        "id": "GXY3xqJboG-U",
        "outputId": "b4f1e2b9-27b9-4935-cb59-ebb6bbba5f92"
      },
      "execution_count": null,
      "outputs": [
        {
          "output_type": "stream",
          "name": "stdout",
          "text": [
            "Training Loss: 0.0\n",
            "Testing Loss: 0.03960396039603964\n"
          ]
        },
        {
          "output_type": "display_data",
          "data": {
            "text/plain": [
              "<Figure size 640x480 with 2 Axes>"
            ],
            "image/png": "[encoded data removed]"
          },
          "metadata": {}
        }
      ]
    },
    {
      "cell_type": "markdown",
      "source": [
        "Perform classification with perceptron"
      ],
      "metadata": {
        "id": "M9gt0SgQaQyB"
      }
    },
    {
      "cell_type": "code",
      "source": [
        "\n",
        "from sklearn.linear_model import Perceptron\n",
        "\n",
        "# Combine easy features and create labels\n",
        "X_easy = np.concatenate((easy_1_features, easy_2_features), axis=0)\n",
        "y_easy = np.zeros(X_easy.shape[0])  # Label 0 for easy\n",
        "\n",
        "# Combine with hard features and labels\n",
        "X = np.concatenate((X_easy, hard_features), axis=0)\n",
        "y = np.concatenate((y_easy, np.ones(hard_features.shape[0])))  # Label 1 for hard\n",
        "\n",
        "# Split data into train and test sets\n",
        "X_train, X_test, y_train, y_test = train_test_split(X, y, test_size=0.2, random_state=42)\n",
        "\n",
        "# Standardize features\n",
        "scaler = StandardScaler()\n",
        "X_train = scaler.fit_transform(X_train)\n",
        "X_test = scaler.transform(X_test)\n",
        "\n",
        "# Train a Perceptron Classifier\n",
        "clf = Perceptron(random_state=55)\n",
        "clf.fit(X_train, y_train)\n",
        "\n",
        "# Make predictions on test set\n",
        "y_pred = clf.predict(X_test)\n",
        "\n",
        "# Evaluate performance\n",
        "accuracy = accuracy_score(y_test, y_pred)\n",
        "print(\"Accuracy:\", accuracy)\n",
        "print(classification_report(y_test, y_pred))\n",
        "\n",
        "# Calculate losses\n",
        "train_loss = 1 - clf.score(X_train, y_train)\n",
        "print(\"Training Loss:\", train_loss)\n",
        "\n",
        "test_loss = 1 - clf.score(X_test, y_test)\n",
        "print(\"Testing Loss:\", test_loss)\n",
        "\n",
        "# Confusion matrix\n",
        "cm = confusion_matrix(y_test, y_pred)\n",
        "sns.heatmap(cm, annot=True, fmt='d')\n",
        "plt.xlabel('Predicted')\n",
        "plt.ylabel('True')\n",
        "plt.title('Confusion Matrix')\n",
        "plt.show()\n"
      ],
      "metadata": {
        "colab": {
          "base_uri": "https://localhost:8080/",
          "height": 680
        },
        "id": "PdVVrpMHYH4r",
        "outputId": "e0410560-9f49-44b1-841b-ec3f3f723700"
      },
      "execution_count": null,
      "outputs": [
        {
          "output_type": "stream",
          "name": "stdout",
          "text": [
            "Accuracy: 0.8613861386138614\n",
            "              precision    recall  f1-score   support\n",
            "\n",
            "         0.0       0.85      0.97      0.91        69\n",
            "         1.0       0.91      0.62      0.74        32\n",
            "\n",
            "    accuracy                           0.86       101\n",
            "   macro avg       0.88      0.80      0.82       101\n",
            "weighted avg       0.87      0.86      0.85       101\n",
            "\n",
            "Training Loss: 0.09181141439205953\n",
            "Testing Loss: 0.13861386138613863\n"
          ]
        },
        {
          "output_type": "display_data",
          "data": {
            "text/plain": [
              "<Figure size 640x480 with 2 Axes>"
            ],
            "image/png": "[encoded data removed]"
          },
          "metadata": {}
        }
      ]
    },
    {
      "cell_type": "markdown",
      "source": [
        "Perform classification using a SVM"
      ],
      "metadata": {
        "id": "fyLzTAF5bi5H"
      }
    },
    {
      "cell_type": "code",
      "source": [
        "from sklearn.svm import SVC\n",
        "\n",
        "# Combine easy features and create labels\n",
        "X_easy = np.concatenate((easy_1_features, easy_2_features), axis=0)\n",
        "y_easy = np.zeros(X_easy.shape[0])  # Label 0 for easy\n",
        "\n",
        "# Combine with hard features and labels\n",
        "X = np.concatenate((X_easy, hard_features), axis=0)\n",
        "y = np.concatenate((y_easy, np.ones(hard_features.shape[0])))  # Label 1 for hard\n",
        "\n",
        "# Split data into train and test sets\n",
        "X_train, X_test, y_train, y_test = train_test_split(X, y, test_size=0.2, random_state=42)\n",
        "\n",
        "# Standardize features\n",
        "scaler = StandardScaler()\n",
        "X_train = scaler.fit_transform(X_train)\n",
        "X_test = scaler.transform(X_test)\n",
        "\n",
        "# Train a Support Vector Machine Classifier\n",
        "clf = SVC(kernel='linear', random_state=55)\n",
        "clf.fit(X_train, y_train)\n",
        "\n",
        "# Make predictions on test set\n",
        "y_pred = clf.predict(X_test)\n",
        "\n",
        "# Evaluate performance\n",
        "accuracy = accuracy_score(y_test, y_pred)\n",
        "print(\"Accuracy:\", accuracy)\n",
        "print(classification_report(y_test, y_pred))\n",
        "\n",
        "# Calculate losses\n",
        "train_loss = 1 - clf.score(X_train, y_train)\n",
        "print(\"Training Loss:\", train_loss)\n",
        "\n",
        "test_loss = 1 - clf.score(X_test, y_test)\n",
        "print(\"Testing Loss:\", test_loss)\n",
        "\n",
        "# Confusion matrix\n",
        "cm = confusion_matrix(y_test, y_pred)\n",
        "sns.heatmap(cm, annot=True, fmt='d')\n",
        "plt.xlabel('Predicted')\n",
        "plt.ylabel('True')\n",
        "plt.title('Confusion Matrix')\n",
        "plt.show()\n"
      ],
      "metadata": {
        "colab": {
          "base_uri": "https://localhost:8080/",
          "height": 680
        },
        "id": "Ft-ud6A2aXSW",
        "outputId": "e5245db9-6941-4cc0-f6d4-6363ec720169"
      },
      "execution_count": null,
      "outputs": [
        {
          "output_type": "stream",
          "name": "stdout",
          "text": [
            "Accuracy: 0.9504950495049505\n",
            "              precision    recall  f1-score   support\n",
            "\n",
            "         0.0       0.96      0.97      0.96        69\n",
            "         1.0       0.94      0.91      0.92        32\n",
            "\n",
            "    accuracy                           0.95       101\n",
            "   macro avg       0.95      0.94      0.94       101\n",
            "weighted avg       0.95      0.95      0.95       101\n",
            "\n",
            "Training Loss: 0.04466501240694787\n",
            "Testing Loss: 0.04950495049504955\n"
          ]
        },
        {
          "output_type": "display_data",
          "data": {
            "text/plain": [
              "<Figure size 640x480 with 2 Axes>"
            ],
            "image/png": "[encoded data removed]"
          },
          "metadata": {}
        }
      ]
    },
    {
      "cell_type": "markdown",
      "source": [
        "Perform feature selection and re run the classification using SVM. The choice of SVM lays in the fact that it is better suited for binary classification and has similar loss to random forest"
      ],
      "metadata": {
        "id": "gaMNSNdRzJIu"
      }
    },
    {
      "cell_type": "markdown",
      "source": [
        "Let's try to only use powerbands features"
      ],
      "metadata": {
        "id": "y61KZfC612WQ"
      }
    },
    {
      "cell_type": "code",
      "source": [
        "easy_1_features_1 = easy_1_features[:,13:18]\n",
        "easy_2_features_1 = easy_2_features[:,13:18]\n",
        "hard_features_1 = hard_features[:,13:18]\n"
      ],
      "metadata": {
        "id": "3w3KahdZy0lI"
      },
      "execution_count": null,
      "outputs": []
    },
    {
      "cell_type": "code",
      "source": [
        "# Combine easy features and create labels\n",
        "X_easy = np.concatenate((easy_1_features_1, easy_2_features_1), axis=0)\n",
        "y_easy = np.zeros(X_easy.shape[0])  # Label 0 for easy\n",
        "\n",
        "# Combine with hard features and labels\n",
        "X = np.concatenate((X_easy, hard_features_1), axis=0)\n",
        "y = np.concatenate((y_easy, np.ones(hard_features_1.shape[0])))  # Label 1 for hard\n",
        "\n",
        "# Split data into train and test sets\n",
        "X_train, X_test, y_train, y_test = train_test_split(X, y, test_size=0.2, random_state=42)\n",
        "\n",
        "# Standardize features\n",
        "scaler = StandardScaler()\n",
        "X_train = scaler.fit_transform(X_train)\n",
        "X_test = scaler.transform(X_test)\n",
        "\n",
        "# Train a Random Forest Classifier\n",
        "clf = SVC(kernel='linear', random_state=10)\n",
        "clf.fit(X_train, y_train)\n",
        "\n",
        "# Make predictions on test set\n",
        "y_pred = clf.predict(X_test)\n",
        "\n",
        "# Evaluate performance\n",
        "accuracy = accuracy_score(y_test, y_pred)\n",
        "print(\"Accuracy:\", accuracy)\n",
        "print(classification_report(y_test, y_pred))"
      ],
      "metadata": {
        "colab": {
          "base_uri": "https://localhost:8080/"
        },
        "id": "GJAH9xYY2VyO",
        "outputId": "1a2324c3-f038-4adf-acf1-e0541f97b168"
      },
      "execution_count": null,
      "outputs": [
        {
          "output_type": "stream",
          "name": "stdout",
          "text": [
            "Accuracy: 0.8613861386138614\n",
            "              precision    recall  f1-score   support\n",
            "\n",
            "         0.0       0.91      0.88      0.90        69\n",
            "         1.0       0.76      0.81      0.79        32\n",
            "\n",
            "    accuracy                           0.86       101\n",
            "   macro avg       0.84      0.85      0.84       101\n",
            "weighted avg       0.86      0.86      0.86       101\n",
            "\n"
          ]
        }
      ]
    },
    {
      "cell_type": "code",
      "source": [
        "# Calculate training loss\n",
        "train_loss = 1 - clf.score(X_train, y_train)\n",
        "print(\"Training Loss:\", train_loss)\n",
        "\n",
        "# Calculate testing loss\n",
        "test_loss = 1 - clf.score(X_test, y_test)\n",
        "print(\"Testing Loss:\", test_loss)\n",
        "\n",
        "# Confusion matrix\n",
        "from sklearn.metrics import confusion_matrix\n",
        "import seaborn as sns\n",
        "import matplotlib.pyplot as plt\n",
        "\n",
        "cm = confusion_matrix(y_test, y_pred)\n",
        "sns.heatmap(cm, annot=True, fmt='d')\n",
        "plt.xlabel('Predicted')\n",
        "plt.ylabel('True')\n",
        "plt.title('Confusion Matrix')\n",
        "plt.show()"
      ],
      "metadata": {
        "colab": {
          "base_uri": "https://localhost:8080/",
          "height": 507
        },
        "id": "VSsIxYV79ruu",
        "outputId": "7d409d22-d0ed-4c0e-ed2c-d0b693116668"
      },
      "execution_count": null,
      "outputs": [
        {
          "output_type": "stream",
          "name": "stdout",
          "text": [
            "Training Loss: 0.11910669975186106\n",
            "Testing Loss: 0.13861386138613863\n"
          ]
        },
        {
          "output_type": "display_data",
          "data": {
            "text/plain": [
              "<Figure size 640x480 with 2 Axes>"
            ],
            "image/png": "[encoded data removed]"
          },
          "metadata": {}
        }
      ]
    },
    {
      "cell_type": "markdown",
      "source": [
        "Via SelectKBest we try to automatically select the 5 best features without handpicking them"
      ],
      "metadata": {
        "id": "xakJ7-M2Xf4e"
      }
    },
    {
      "cell_type": "code",
      "source": [
        "from sklearn.feature_selection import SelectKBest, chi2, mutual_info_classif, f_classif\n",
        "\n",
        "# Combine easy features and create labels\n",
        "X_easy = np.concatenate((easy_1_features, easy_2_features), axis=0)\n",
        "y_easy = np.zeros(X_easy.shape[0])  # Label 0 for easy\n",
        "\n",
        "# Combine with hard features and labels\n",
        "X = np.concatenate((X_easy, hard_features), axis=0)\n",
        "y = np.concatenate((y_easy, np.ones(hard_features.shape[0])))  # Label 1 for hard\n",
        "\n",
        "# Apply SelectKBest with mutual_info_classif scoring function\n",
        "selector = SelectKBest(mutual_info_classif, k=5)  # Select top 5 features\n",
        "X_new = selector.fit_transform(X, y)\n",
        "\n",
        "# Get the indices of the selected features\n",
        "selected_feature_indices = selector.get_support(indices=True)\n",
        "print(\"Selected Feature Indices:\", selected_feature_indices)\n"
      ],
      "metadata": {
        "colab": {
          "base_uri": "https://localhost:8080/"
        },
        "id": "2ler3nxQ-f5f",
        "outputId": "81afbb88-8cbf-479a-be5f-bbeef353d084"
      },
      "execution_count": null,
      "outputs": [
        {
          "output_type": "stream",
          "name": "stdout",
          "text": [
            "Selected Feature Indices: [ 1  8  9 10 17]\n"
          ]
        }
      ]
    },
    {
      "cell_type": "markdown",
      "source": [
        "Perform classification with the 5 best automatically selected features (we half the original number to see if there is some sort of improvement)"
      ],
      "metadata": {
        "id": "Qcg1EKMy-NIE"
      }
    },
    {
      "cell_type": "code",
      "source": [
        "easy_1_features_2 = easy_1_features[:,selected_feature_indices]\n",
        "easy_2_features_2 = easy_2_features[:,selected_feature_indices]\n",
        "hard_features_2 = hard_features[:,selected_feature_indices]\n"
      ],
      "metadata": {
        "id": "MswvJuDp-l6t"
      },
      "execution_count": null,
      "outputs": []
    },
    {
      "cell_type": "code",
      "source": [
        "# Combine easy features and create labels\n",
        "X_easy = np.concatenate((easy_1_features_2, easy_2_features_2), axis=0)\n",
        "y_easy = np.zeros(X_easy.shape[0])  # Label 0 for easy\n",
        "\n",
        "# Combine with hard features and labels\n",
        "X = np.concatenate((X_easy, hard_features_2), axis=0)\n",
        "y = np.concatenate((y_easy, np.ones(hard_features_2.shape[0])))  # Label 1 for hard\n",
        "\n",
        "# Split data into train and test sets\n",
        "X_train, X_test, y_train, y_test = train_test_split(X, y, test_size=0.2, random_state=42)\n",
        "\n",
        "# Standardize features\n",
        "scaler = StandardScaler()\n",
        "X_train = scaler.fit_transform(X_train)\n",
        "X_test = scaler.transform(X_test)\n",
        "\n",
        "# Train a Random Forest Classifier\n",
        "clf = SVC(kernel='linear', random_state=55)\n",
        "clf.fit(X_train, y_train)\n",
        "\n",
        "# Make predictions on test set\n",
        "y_pred = clf.predict(X_test)\n",
        "\n",
        "# Evaluate performance\n",
        "accuracy = accuracy_score(y_test, y_pred)\n",
        "print(\"Accuracy:\", accuracy)\n",
        "print(classification_report(y_test, y_pred))\n"
      ],
      "metadata": {
        "colab": {
          "base_uri": "https://localhost:8080/"
        },
        "id": "nRbWpJAY-Fkj",
        "outputId": "5ad4c41c-dfba-4425-ddf6-ff69dc6f2f06"
      },
      "execution_count": null,
      "outputs": [
        {
          "output_type": "stream",
          "name": "stdout",
          "text": [
            "Accuracy: 0.9207920792079208\n",
            "              precision    recall  f1-score   support\n",
            "\n",
            "         0.0       0.91      0.99      0.94        69\n",
            "         1.0       0.96      0.78      0.86        32\n",
            "\n",
            "    accuracy                           0.92       101\n",
            "   macro avg       0.93      0.88      0.90       101\n",
            "weighted avg       0.92      0.92      0.92       101\n",
            "\n"
          ]
        }
      ]
    },
    {
      "cell_type": "code",
      "source": [
        "# Calculate training loss\n",
        "train_loss = 1 - clf.score(X_train, y_train)\n",
        "print(\"Training Loss:\", train_loss)\n",
        "\n",
        "# Calculate testing loss\n",
        "test_loss = 1 - clf.score(X_test, y_test)\n",
        "print(\"Testing Loss:\", test_loss)\n",
        "\n",
        "# Confusion matrix\n",
        "from sklearn.metrics import confusion_matrix\n",
        "import seaborn as sns\n",
        "import matplotlib.pyplot as plt\n",
        "\n",
        "cm = confusion_matrix(y_test, y_pred)\n",
        "sns.heatmap(cm, annot=True, fmt='d')\n",
        "plt.xlabel('Predicted')\n",
        "plt.ylabel('True')\n",
        "plt.title('Confusion Matrix')\n",
        "plt.show()"
      ],
      "metadata": {
        "colab": {
          "base_uri": "https://localhost:8080/",
          "height": 507
        },
        "id": "YURdBsJ3-3iC",
        "outputId": "ded2df06-dbe6-4e1a-8139-97d608dc499a"
      },
      "execution_count": null,
      "outputs": [
        {
          "output_type": "stream",
          "name": "stdout",
          "text": [
            "Training Loss: 0.052109181141439254\n",
            "Testing Loss: 0.07920792079207917\n"
          ]
        },
        {
          "output_type": "display_data",
          "data": {
            "text/plain": [
              "<Figure size 640x480 with 2 Axes>"
            ],
            "image/png": "[encoded data removed]"
          },
          "metadata": {}
        }
      ]
    },
    {
      "cell_type": "markdown",
      "source": [
        "Augment features with alpha and beta powerbands"
      ],
      "metadata": {
        "id": "CommjPqvypS0"
      }
    },
    {
      "cell_type": "code",
      "source": [
        "easy_1_features_3 = np.concatenate((easy_1_features_2[:,:],easy_1_features[:,15:17]),axis=1)\n",
        "easy_2_features_3 = np.concatenate((easy_2_features_2,easy_2_features[:,15:17]),axis=1)\n",
        "hard_features_3 = np.concatenate((hard_features_2,hard_features[:,15:17]),axis=1)"
      ],
      "metadata": {
        "id": "PtWXMLcSwb3c"
      },
      "execution_count": null,
      "outputs": []
    },
    {
      "cell_type": "code",
      "source": [
        "# Combine easy features and create labels\n",
        "X_easy = np.concatenate((easy_1_features_3, easy_2_features_3), axis=0)\n",
        "y_easy = np.zeros(X_easy.shape[0])  # Label 0 for easy\n",
        "\n",
        "# Combine with hard features and labels\n",
        "X = np.concatenate((X_easy, hard_features_3), axis=0)\n",
        "y = np.concatenate((y_easy, np.ones(hard_features_3.shape[0])))  # Label 1 for hard\n",
        "\n",
        "# Split data into train and test sets\n",
        "X_train, X_test, y_train, y_test = train_test_split(X, y, test_size=0.2, random_state=42)\n",
        "\n",
        "# Standardize features\n",
        "scaler = StandardScaler()\n",
        "X_train = scaler.fit_transform(X_train)\n",
        "X_test = scaler.transform(X_test)\n",
        "\n",
        "# Train a Random Forest Classifier\n",
        "clf = SVC(kernel='linear', random_state=55)\n",
        "clf.fit(X_train, y_train)\n",
        "\n",
        "# Make predictions on test set\n",
        "y_pred = clf.predict(X_test)\n",
        "\n",
        "# Evaluate performance\n",
        "accuracy = accuracy_score(y_test, y_pred)\n",
        "print(\"Accuracy:\", accuracy)\n",
        "print(classification_report(y_test, y_pred))\n"
      ],
      "metadata": {
        "colab": {
          "base_uri": "https://localhost:8080/"
        },
        "id": "3dO1aXD7yj1a",
        "outputId": "1fded903-fc64-4e70-df57-37a66e64d5bc"
      },
      "execution_count": null,
      "outputs": [
        {
          "output_type": "stream",
          "name": "stdout",
          "text": [
            "Accuracy: 0.9603960396039604\n",
            "              precision    recall  f1-score   support\n",
            "\n",
            "         0.0       0.96      0.99      0.97        69\n",
            "         1.0       0.97      0.91      0.94        32\n",
            "\n",
            "    accuracy                           0.96       101\n",
            "   macro avg       0.96      0.95      0.95       101\n",
            "weighted avg       0.96      0.96      0.96       101\n",
            "\n"
          ]
        }
      ]
    },
    {
      "cell_type": "code",
      "source": [
        "# Calculate training loss\n",
        "train_loss = 1 - clf.score(X_train, y_train)\n",
        "print(\"Training Loss:\", train_loss)\n",
        "\n",
        "# Calculate testing loss\n",
        "test_loss = 1 - clf.score(X_test, y_test)\n",
        "print(\"Testing Loss:\", test_loss)\n",
        "\n",
        "# Confusion matrix\n",
        "from sklearn.metrics import confusion_matrix\n",
        "import seaborn as sns\n",
        "import matplotlib.pyplot as plt\n",
        "\n",
        "cm = confusion_matrix(y_test, y_pred)\n",
        "sns.heatmap(cm, annot=True, fmt='d')\n",
        "plt.xlabel('Predicted')\n",
        "plt.ylabel('True')\n",
        "plt.title('Confusion Matrix')\n",
        "plt.show()"
      ],
      "metadata": {
        "colab": {
          "base_uri": "https://localhost:8080/",
          "height": 507
        },
        "id": "MiBICy2zy9x9",
        "outputId": "62c38ae4-c890-499c-f604-870e27e7e913"
      },
      "execution_count": null,
      "outputs": [
        {
          "output_type": "stream",
          "name": "stdout",
          "text": [
            "Training Loss: 0.05707196029776673\n",
            "Testing Loss: 0.03960396039603964\n"
          ]
        },
        {
          "output_type": "display_data",
          "data": {
            "text/plain": [
              "<Figure size 640x480 with 2 Axes>"
            ],
            "image/png": "[encoded data removed]"
          },
          "metadata": {}
        }
      ]
    },
    {
      "cell_type": "markdown",
      "source": [
        "Now we try to perform multiclass classification to see if we are able to discriminate between the 2 easy tasks. We will use the random forest algorithm."
      ],
      "metadata": {
        "id": "sZ_G0Ts0dGHh"
      }
    },
    {
      "cell_type": "code",
      "source": [
        "# Combine all feature matrices and create corresponding labels\n",
        "X = np.concatenate((easy_1_features, easy_2_features, hard_features), axis=0)\n",
        "y = np.concatenate((np.zeros(easy_1_features.shape[0]),  # Label 0 for easy_1\n",
        "                    np.ones(easy_2_features.shape[0]),   # Label 1 for easy_2\n",
        "                    np.ones(hard_features.shape[0]) * 2)) # Label 2 for hard\n",
        "\n",
        "# Split data into train and test sets\n",
        "X_train, X_test, y_train, y_test = train_test_split(X, y, test_size=0.2, random_state=42)\n",
        "\n",
        "# Standardize features\n",
        "scaler = StandardScaler()\n",
        "X_train = scaler.fit_transform(X_train)\n",
        "X_test = scaler.transform(X_test)\n",
        "\n",
        "# Train a Random Forest Classifier (or any other multiclass classifier)\n",
        "clf = RandomForestClassifier(random_state=55)\n",
        "clf.fit(X_train, y_train)\n",
        "\n",
        "# Make predictions on test set\n",
        "y_pred = clf.predict(X_test)\n",
        "\n",
        "# Evaluate performance\n",
        "accuracy = accuracy_score(y_test, y_pred)\n",
        "print(\"Accuracy:\", accuracy)\n",
        "print(classification_report(y_test, y_pred))\n",
        "\n",
        "# Calculate training loss\n",
        "train_loss = 1 - clf.score(X_train, y_train)\n",
        "print(\"Training Loss:\", train_loss)\n",
        "\n",
        "# Calculate testing loss\n",
        "test_loss = 1 - clf.score(X_test, y_test)\n",
        "print(\"Testing Loss:\", test_loss)\n",
        "\n",
        "# Confusion matrix\n",
        "from sklearn.metrics import confusion_matrix\n",
        "import seaborn as sns\n",
        "import matplotlib.pyplot as plt\n",
        "\n",
        "cm = confusion_matrix(y_test, y_pred)\n",
        "sns.heatmap(cm, annot=True, fmt='d')\n",
        "plt.xlabel('Predicted')\n",
        "plt.ylabel('True')\n",
        "plt.title('Confusion Matrix')\n",
        "plt.show()\n"
      ],
      "metadata": {
        "colab": {
          "base_uri": "https://localhost:8080/",
          "height": 698
        },
        "id": "cU4d88A_Zs9s",
        "outputId": "3ef6ca91-5246-43a6-efcc-299bd54b1b0e"
      },
      "execution_count": null,
      "outputs": [
        {
          "output_type": "stream",
          "name": "stdout",
          "text": [
            "Accuracy: 0.6831683168316832\n",
            "              precision    recall  f1-score   support\n",
            "\n",
            "         0.0       0.55      0.53      0.54        34\n",
            "         1.0       0.58      0.63      0.60        35\n",
            "         2.0       0.97      0.91      0.94        32\n",
            "\n",
            "    accuracy                           0.68       101\n",
            "   macro avg       0.70      0.69      0.69       101\n",
            "weighted avg       0.69      0.68      0.69       101\n",
            "\n",
            "Training Loss: 0.0\n",
            "Testing Loss: 0.3168316831683168\n"
          ]
        },
        {
          "output_type": "display_data",
          "data": {
            "text/plain": [
              "<Figure size 640x480 with 2 Axes>"
            ],
            "image/png": "[encoded data removed]"
          },
          "metadata": {}
        }
      ]
    },
    {
      "cell_type": "markdown",
      "source": [
        "Let's retry with the automatically selected features"
      ],
      "metadata": {
        "id": "s8nILYw6eklS"
      }
    },
    {
      "cell_type": "code",
      "source": [
        "# Combine all feature matrices and create corresponding labels\n",
        "X = np.concatenate((easy_1_features_3, easy_2_features_3, hard_features_3), axis=0)\n",
        "y = np.concatenate((np.zeros(easy_1_features_3.shape[0]),  # Label 0 for easy_1\n",
        "                    np.ones(easy_2_features_3.shape[0]),   # Label 1 for easy_2\n",
        "                    np.ones(hard_features_3.shape[0]) * 2)) # Label 2 for hard\n",
        "\n",
        "# Split data into train and test sets\n",
        "X_train, X_test, y_train, y_test = train_test_split(X, y, test_size=0.2, random_state=42)\n",
        "\n",
        "# Standardize features\n",
        "scaler = StandardScaler()\n",
        "X_train = scaler.fit_transform(X_train)\n",
        "X_test = scaler.transform(X_test)\n",
        "\n",
        "# Train a Random Forest Classifier (or any other multiclass classifier)\n",
        "clf = RandomForestClassifier(random_state=55)\n",
        "clf.fit(X_train, y_train)\n",
        "\n",
        "# Make predictions on test set\n",
        "y_pred = clf.predict(X_test)\n",
        "\n",
        "# Evaluate performance\n",
        "accuracy = accuracy_score(y_test, y_pred)\n",
        "print(\"Accuracy:\", accuracy)\n",
        "print(classification_report(y_test, y_pred))\n",
        "\n",
        "# Calculate training loss\n",
        "train_loss = 1 - clf.score(X_train, y_train)\n",
        "print(\"Training Loss:\", train_loss)\n",
        "\n",
        "# Calculate testing loss\n",
        "test_loss = 1 - clf.score(X_test, y_test)\n",
        "print(\"Testing Loss:\", test_loss)\n",
        "\n",
        "# Confusion matrix\n",
        "from sklearn.metrics import confusion_matrix\n",
        "import seaborn as sns\n",
        "import matplotlib.pyplot as plt\n",
        "\n",
        "cm = confusion_matrix(y_test, y_pred)\n",
        "sns.heatmap(cm, annot=True, fmt='d')\n",
        "plt.xlabel('Predicted')\n",
        "plt.ylabel('True')\n",
        "plt.title('Confusion Matrix')\n",
        "plt.show()\n"
      ],
      "metadata": {
        "colab": {
          "base_uri": "https://localhost:8080/",
          "height": 698
        },
        "id": "WKmU4et-ejiB",
        "outputId": "aa34c09e-de24-4609-fb52-50bfd5bca836"
      },
      "execution_count": null,
      "outputs": [
        {
          "output_type": "stream",
          "name": "stdout",
          "text": [
            "Accuracy: 0.693069306930693\n",
            "              precision    recall  f1-score   support\n",
            "\n",
            "         0.0       0.58      0.56      0.57        34\n",
            "         1.0       0.59      0.66      0.62        35\n",
            "         2.0       0.97      0.88      0.92        32\n",
            "\n",
            "    accuracy                           0.69       101\n",
            "   macro avg       0.71      0.70      0.70       101\n",
            "weighted avg       0.70      0.69      0.70       101\n",
            "\n",
            "Training Loss: 0.0\n",
            "Testing Loss: 0.306930693069307\n"
          ]
        },
        {
          "output_type": "display_data",
          "data": {
            "text/plain": [
              "<Figure size 640x480 with 2 Axes>"
            ],
            "image/png": "[encoded data removed]"
          },
          "metadata": {}
        }
      ]
    }
  ]
}
